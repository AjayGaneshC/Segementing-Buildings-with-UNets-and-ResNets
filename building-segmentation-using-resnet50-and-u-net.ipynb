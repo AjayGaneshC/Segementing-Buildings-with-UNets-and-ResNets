version https://git-lfs.github.com/spec/v1
oid sha256:ddcb9e98af4904dcf7b71ebca5000619d01b48ba6ff928c08be0c6bc8e2810af
size 52428801
